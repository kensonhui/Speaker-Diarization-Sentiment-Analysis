{
 "cells": [
  {
   "cell_type": "code",
   "execution_count": 9,
   "id": "b5462701",
   "metadata": {
    "ExecuteTime": {
     "end_time": "2023-11-23T17:32:19.003802Z",
     "start_time": "2023-11-23T17:32:17.856367Z"
    }
   },
   "outputs": [
    {
     "name": "stderr",
     "output_type": "stream",
     "text": [
      "[nltk_data] Downloading package vader_lexicon to\n",
      "[nltk_data]     /home/azureuser/nltk_data...\n",
      "[nltk_data]   Package vader_lexicon is already up-to-date!\n",
      "[nltk_data] Downloading package stopwords to\n",
      "[nltk_data]     /home/azureuser/nltk_data...\n",
      "[nltk_data]   Package stopwords is already up-to-date!\n",
      "[nltk_data] Downloading package punkt to /home/azureuser/nltk_data...\n",
      "[nltk_data]   Package punkt is already up-to-date!\n"
     ]
    },
    {
     "data": {
      "text/plain": [
       "True"
      ]
     },
     "execution_count": 9,
     "metadata": {},
     "output_type": "execute_result"
    }
   ],
   "source": [
    "from string import punctuation\n",
    "import pandas as pd\n",
    "import nltk\n",
    "from nltk.sentiment.vader import SentimentIntensityAnalyzer\n",
    "nltk.download('vader_lexicon')\n",
    "nltk.download('stopwords')\n",
    "nltk.download('punkt')"
   ]
  },
  {
   "cell_type": "code",
   "execution_count": 10,
   "id": "dede1160",
   "metadata": {
    "ExecuteTime": {
     "end_time": "2023-11-23T17:32:19.019827Z",
     "start_time": "2023-11-23T17:32:19.006286Z"
    }
   },
   "outputs": [],
   "source": [
    "sid = SentimentIntensityAnalyzer()"
   ]
  },
  {
   "cell_type": "code",
   "execution_count": 11,
   "id": "e9e1a4d3",
   "metadata": {
    "ExecuteTime": {
     "end_time": "2023-11-23T17:32:19.024195Z",
     "start_time": "2023-11-23T17:32:19.022250Z"
    }
   },
   "outputs": [],
   "source": [
    "# insurance premiums, claim files and payments, complaints"
   ]
  },
  {
   "cell_type": "code",
   "execution_count": 12,
   "id": "1e303872",
   "metadata": {
    "ExecuteTime": {
     "end_time": "2023-11-23T17:32:19.028415Z",
     "start_time": "2023-11-23T17:32:19.026075Z"
    }
   },
   "outputs": [],
   "source": [
    "def sentimentVerdict(sentiment):\n",
    "  if sentiment['compound'] >= 0.05:\n",
    "    return \"Positive\"\n",
    "  elif sentiment['compound'] <= -0.05:\n",
    "    return \"Negative\"\n",
    "  else:\n",
    "    return \"Neutral\""
   ]
  },
  {
   "cell_type": "code",
   "execution_count": 17,
   "id": "9a0bf09c",
   "metadata": {
    "ExecuteTime": {
     "end_time": "2023-11-23T17:55:46.308182Z",
     "start_time": "2023-11-23T17:55:46.304168Z"
    }
   },
   "outputs": [],
   "source": [
    "text = [{'speaker': 'SPEAKER_00', 'text': ' Hello, WSIB customer service. How may I help you?', 'timestamp': (0.0, 3.76)}, {'speaker': 'SPEAKER_02', 'text': ' How am I able to see the status of the claim? I am so confused and frustrated.', 'timestamp': (3.76, 7.6)}, {'speaker': 'SPEAKER_00', 'text': \" I'm able to help with that. What is the claim number?\", 'timestamp': (7.6, 11.58)}, {'speaker': 'SPEAKER_01', 'text': ' Claim number is 324-765-34.', 'timestamp': (11.58, 15.04)}, {'speaker': 'SPEAKER_00', 'text': ' Yes, that employee will be returning to work on January 2nd.', 'timestamp': (15.04, 18.12)}, {'speaker': 'SPEAKER_02', 'text': ' Thank you so much.', 'timestamp': (18.12, 19.38)}]"
   ]
  },
  {
   "cell_type": "code",
   "execution_count": 18,
   "id": "0dceac94",
   "metadata": {
    "ExecuteTime": {
     "end_time": "2023-11-23T17:55:48.864927Z",
     "start_time": "2023-11-23T17:55:48.860653Z"
    }
   },
   "outputs": [
    {
     "name": "stdout",
     "output_type": "stream",
     "text": [
      "Representative Speech:  ['Hello, WSIB customer service.', 'How may I help you?']\n",
      "Customer Speech:  ['How am I able to see the status of the claim?', 'I am so confused and frustrated.']\n"
     ]
    }
   ],
   "source": [
    "from nltk.tokenize import sent_tokenize\n",
    "rep_convo = text[0]['text']\n",
    "rep_convo = rep_convo[1:len(rep_convo)]\n",
    "rep_convo = sent_tokenize(rep_convo)\n",
    "\n",
    "cust_convo = text[1]['text']\n",
    "cust_convo = cust_convo[1:len(cust_convo)]\n",
    "cust_convo = sent_tokenize(cust_convo)\n",
    "\n",
    "print(\"Representative Speech: \", rep_convo)\n",
    "print(\"Customer Speech: \", cust_convo)"
   ]
  },
  {
   "cell_type": "code",
   "execution_count": 19,
   "id": "beb535df",
   "metadata": {
    "ExecuteTime": {
     "end_time": "2023-11-23T18:23:16.528381Z",
     "start_time": "2023-11-23T18:23:16.514974Z"
    }
   },
   "outputs": [
    {
     "data": {
      "text/html": [
       "<div>\n",
       "<style scoped>\n",
       "    .dataframe tbody tr th:only-of-type {\n",
       "        vertical-align: middle;\n",
       "    }\n",
       "\n",
       "    .dataframe tbody tr th {\n",
       "        vertical-align: top;\n",
       "    }\n",
       "\n",
       "    .dataframe thead th {\n",
       "        text-align: right;\n",
       "    }\n",
       "</style>\n",
       "<table border=\"1\" class=\"dataframe\">\n",
       "  <thead>\n",
       "    <tr style=\"text-align: right;\">\n",
       "      <th></th>\n",
       "      <th>Speech</th>\n",
       "      <th>Sentiment</th>\n",
       "      <th>Overall Sentiment</th>\n",
       "    </tr>\n",
       "  </thead>\n",
       "  <tbody>\n",
       "    <tr>\n",
       "      <th>0</th>\n",
       "      <td>Hello, WSIB customer service.</td>\n",
       "      <td>{'neg': 0.0, 'neu': 1.0, 'pos': 0.0, 'compound': 0.0}</td>\n",
       "      <td>Neutral</td>\n",
       "    </tr>\n",
       "    <tr>\n",
       "      <th>1</th>\n",
       "      <td>How may I help you?</td>\n",
       "      <td>{'neg': 0.0, 'neu': 0.526, 'pos': 0.474, 'compound': 0.4019}</td>\n",
       "      <td>Positive</td>\n",
       "    </tr>\n",
       "  </tbody>\n",
       "</table>\n",
       "</div>"
      ],
      "text/plain": [
       "                          Speech  \\\n",
       "0  Hello, WSIB customer service.   \n",
       "1            How may I help you?   \n",
       "\n",
       "                                                      Sentiment  \\\n",
       "0         {'neg': 0.0, 'neu': 1.0, 'pos': 0.0, 'compound': 0.0}   \n",
       "1  {'neg': 0.0, 'neu': 0.526, 'pos': 0.474, 'compound': 0.4019}   \n",
       "\n",
       "  Overall Sentiment  \n",
       "0           Neutral  \n",
       "1          Positive  "
      ]
     },
     "execution_count": 19,
     "metadata": {},
     "output_type": "execute_result"
    }
   ],
   "source": [
    "pd.options.display.max_colwidth = 100\n",
    "df_rep = pd.DataFrame()\n",
    "df_rep['Speech'] = rep_convo\n",
    "df_rep['Sentiment'] = df_rep['Speech'].apply(lambda x: sid.polarity_scores(x))\n",
    "df_rep['Overall Sentiment'] = df_rep['Sentiment'].apply(lambda x: sentimentVerdict(x))\n",
    "\n",
    "df_cust = pd.DataFrame()\n",
    "df_cust['Speech'] = cust_convo\n",
    "df_cust['Sentiment'] = df_cust['Speech'].apply(lambda x: sid.polarity_scores(x))\n",
    "df_cust['Overall Sentiment'] = df_cust['Sentiment'].apply(lambda x: sentimentVerdict(x))\n",
    "\n",
    "df_rep # Sentiment Analysis on CSR Speech"
   ]
  },
  {
   "cell_type": "code",
   "execution_count": 20,
   "id": "50ccaeaa",
   "metadata": {
    "ExecuteTime": {
     "end_time": "2023-11-23T18:23:25.522239Z",
     "start_time": "2023-11-23T18:23:25.514326Z"
    }
   },
   "outputs": [
    {
     "data": {
      "text/html": [
       "<div>\n",
       "<style scoped>\n",
       "    .dataframe tbody tr th:only-of-type {\n",
       "        vertical-align: middle;\n",
       "    }\n",
       "\n",
       "    .dataframe tbody tr th {\n",
       "        vertical-align: top;\n",
       "    }\n",
       "\n",
       "    .dataframe thead th {\n",
       "        text-align: right;\n",
       "    }\n",
       "</style>\n",
       "<table border=\"1\" class=\"dataframe\">\n",
       "  <thead>\n",
       "    <tr style=\"text-align: right;\">\n",
       "      <th></th>\n",
       "      <th>Speech</th>\n",
       "      <th>Sentiment</th>\n",
       "      <th>Overall Sentiment</th>\n",
       "    </tr>\n",
       "  </thead>\n",
       "  <tbody>\n",
       "    <tr>\n",
       "      <th>0</th>\n",
       "      <td>How am I able to see the status of the claim?</td>\n",
       "      <td>{'neg': 0.0, 'neu': 1.0, 'pos': 0.0, 'compound': 0.0}</td>\n",
       "      <td>Neutral</td>\n",
       "    </tr>\n",
       "    <tr>\n",
       "      <th>1</th>\n",
       "      <td>I am so confused and frustrated.</td>\n",
       "      <td>{'neg': 0.676, 'neu': 0.324, 'pos': 0.0, 'compound': -0.7397}</td>\n",
       "      <td>Negative</td>\n",
       "    </tr>\n",
       "  </tbody>\n",
       "</table>\n",
       "</div>"
      ],
      "text/plain": [
       "                                          Speech  \\\n",
       "0  How am I able to see the status of the claim?   \n",
       "1               I am so confused and frustrated.   \n",
       "\n",
       "                                                       Sentiment  \\\n",
       "0          {'neg': 0.0, 'neu': 1.0, 'pos': 0.0, 'compound': 0.0}   \n",
       "1  {'neg': 0.676, 'neu': 0.324, 'pos': 0.0, 'compound': -0.7397}   \n",
       "\n",
       "  Overall Sentiment  \n",
       "0           Neutral  \n",
       "1          Negative  "
      ]
     },
     "execution_count": 20,
     "metadata": {},
     "output_type": "execute_result"
    }
   ],
   "source": [
    "df_cust # Sentiment Analysis on Customer Speech"
   ]
  },
  {
   "cell_type": "code",
   "execution_count": null,
   "id": "5c2e4979",
   "metadata": {},
   "outputs": [],
   "source": []
  }
 ],
 "metadata": {
  "kernelspec": {
   "display_name": "Python 3 (ipykernel)",
   "language": "python",
   "name": "python3"
  },
  "language_info": {
   "codemirror_mode": {
    "name": "ipython",
    "version": 3
   },
   "file_extension": ".py",
   "mimetype": "text/x-python",
   "name": "python",
   "nbconvert_exporter": "python",
   "pygments_lexer": "ipython3",
   "version": "3.11.5"
  }
 },
 "nbformat": 4,
 "nbformat_minor": 5
}
